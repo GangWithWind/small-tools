{
 "cells": [
  {
   "cell_type": "markdown",
   "metadata": {},
   "source": [
    "# 小工具"
   ]
  },
  {
   "cell_type": "markdown",
   "metadata": {},
   "source": [
    "## pMake\n",
    "使用python的c++编译工具\n",
    "\n",
    "* 首次运行时使用类似如下的命令，生成pMakefile，并且编译链接   \n",
    "`pmake.py *.cc res`或  \n",
    "`pmake.py a.cc b.cc res`\n",
    "* 编译时使用 pmake.py\n",
    "* 使用`pmake.py clean` 清空.o文件\n",
    "* 使用`pmake.py add a.cc b.cc`添加新的文件进入pMakefile并编译。\n",
    "* 可以写一个alias，方便使用  \n",
    "`alias pmake = 'python /Users/gangzhao/GitHub/small-tools/pmake.py`"
   ]
  }
 ],
 "metadata": {
  "kernelspec": {
   "display_name": "Python 2",
   "language": "python",
   "name": "python2"
  },
  "language_info": {
   "codemirror_mode": {
    "name": "ipython",
    "version": 2
   },
   "file_extension": ".py",
   "mimetype": "text/x-python",
   "name": "python",
   "nbconvert_exporter": "python",
   "pygments_lexer": "ipython2",
   "version": "2.7.13"
  }
 },
 "nbformat": 4,
 "nbformat_minor": 2
}
